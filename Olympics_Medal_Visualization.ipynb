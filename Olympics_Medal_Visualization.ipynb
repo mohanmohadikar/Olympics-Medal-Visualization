{
  "nbformat": 4,
  "nbformat_minor": 0,
  "metadata": {
    "kernelspec": {
      "display_name": "Python 3",
      "language": "python",
      "name": "python3"
    },
    "language_info": {
      "codemirror_mode": {
        "name": "ipython",
        "version": 3
      },
      "file_extension": ".py",
      "mimetype": "text/x-python",
      "name": "python",
      "nbconvert_exporter": "python",
      "pygments_lexer": "ipython3",
      "version": "3.6.5"
    },
    "colab": {
      "name": "Olympics_Medal_Visualization.ipynb",
      "provenance": [],
      "toc_visible": true
    }
  },
  "cells": [
    {
      "cell_type": "markdown",
      "metadata": {
        "id": "84Dp0jIlYZDb"
      },
      "source": [
        "# Mohan M Mohadikar\n",
        "# 17070122043\n",
        "# CS-2, 17-21"
      ]
    },
    {
      "cell_type": "markdown",
      "metadata": {
        "id": "yhN_wEFTVaeC"
      },
      "source": [
        "# Summer Olympics Medal Visualization (1896-2014)"
      ]
    },
    {
      "cell_type": "code",
      "metadata": {
        "id": "yuQf-npdVaeD"
      },
      "source": [
        "import pandas as pd\n",
        "import numpy as np\n",
        "import matplotlib.pyplot as plt\n",
        "% matplotlib inline\n",
        "import seaborn as sns; sns.set()"
      ],
      "execution_count": 1,
      "outputs": []
    },
    {
      "cell_type": "code",
      "metadata": {
        "id": "vdSaFocoVaeE"
      },
      "source": [
        "olympic_detail = pd.read_csv('summer.csv',  )\n",
        "country_detail = pd.read_csv('dictionary.csv', na_values={'GDP per Capita':0})"
      ],
      "execution_count": 2,
      "outputs": []
    },
    {
      "cell_type": "markdown",
      "metadata": {
        "id": "5SswEiOfVaeB"
      },
      "source": [
        "The dataset is about Olympics data from Year 1896 to 2012. The dataset was formed by combining two datasets :\n",
        "1. Dictionary.csv : This has the Country Name, Country Code, GDP per capita and the Population\n",
        "2. Summer.csv     : This has all the details about the olympics including country code, hosting city, athlete name, sporting      events and the medals won.\n",
        "\n",
        "The url for the two base datasets is :\n",
        "1. https://www.kaggle.com/the-guardian/olympic-games#summer.csv \n",
        "2. https://www.kaggle.com/the-guardian/olympic-games#dictionary.csv"
      ]
    },
    {
      "cell_type": "code",
      "metadata": {
        "colab": {
          "base_uri": "https://localhost:8080/",
          "height": 204
        },
        "id": "ncmZPCvcVaeE",
        "outputId": "1eff3260-9a74-4301-f11e-a32d49c28615"
      },
      "source": [
        "olympic_detail.head()"
      ],
      "execution_count": 3,
      "outputs": [
        {
          "output_type": "execute_result",
          "data": {
            "text/html": [
              "<div>\n",
              "<style scoped>\n",
              "    .dataframe tbody tr th:only-of-type {\n",
              "        vertical-align: middle;\n",
              "    }\n",
              "\n",
              "    .dataframe tbody tr th {\n",
              "        vertical-align: top;\n",
              "    }\n",
              "\n",
              "    .dataframe thead th {\n",
              "        text-align: right;\n",
              "    }\n",
              "</style>\n",
              "<table border=\"1\" class=\"dataframe\">\n",
              "  <thead>\n",
              "    <tr style=\"text-align: right;\">\n",
              "      <th></th>\n",
              "      <th>Year</th>\n",
              "      <th>City</th>\n",
              "      <th>Sport</th>\n",
              "      <th>Discipline</th>\n",
              "      <th>Athlete</th>\n",
              "      <th>Country</th>\n",
              "      <th>Gender</th>\n",
              "      <th>Event</th>\n",
              "      <th>Medal</th>\n",
              "    </tr>\n",
              "  </thead>\n",
              "  <tbody>\n",
              "    <tr>\n",
              "      <th>0</th>\n",
              "      <td>1896</td>\n",
              "      <td>Athens</td>\n",
              "      <td>Aquatics</td>\n",
              "      <td>Swimming</td>\n",
              "      <td>HAJOS, Alfred</td>\n",
              "      <td>HUN</td>\n",
              "      <td>Men</td>\n",
              "      <td>100M Freestyle</td>\n",
              "      <td>Gold</td>\n",
              "    </tr>\n",
              "    <tr>\n",
              "      <th>1</th>\n",
              "      <td>1896</td>\n",
              "      <td>Athens</td>\n",
              "      <td>Aquatics</td>\n",
              "      <td>Swimming</td>\n",
              "      <td>HERSCHMANN, Otto</td>\n",
              "      <td>AUT</td>\n",
              "      <td>Men</td>\n",
              "      <td>100M Freestyle</td>\n",
              "      <td>Silver</td>\n",
              "    </tr>\n",
              "    <tr>\n",
              "      <th>2</th>\n",
              "      <td>1896</td>\n",
              "      <td>Athens</td>\n",
              "      <td>Aquatics</td>\n",
              "      <td>Swimming</td>\n",
              "      <td>DRIVAS, Dimitrios</td>\n",
              "      <td>GRE</td>\n",
              "      <td>Men</td>\n",
              "      <td>100M Freestyle For Sailors</td>\n",
              "      <td>Bronze</td>\n",
              "    </tr>\n",
              "    <tr>\n",
              "      <th>3</th>\n",
              "      <td>1896</td>\n",
              "      <td>Athens</td>\n",
              "      <td>Aquatics</td>\n",
              "      <td>Swimming</td>\n",
              "      <td>MALOKINIS, Ioannis</td>\n",
              "      <td>GRE</td>\n",
              "      <td>Men</td>\n",
              "      <td>100M Freestyle For Sailors</td>\n",
              "      <td>Gold</td>\n",
              "    </tr>\n",
              "    <tr>\n",
              "      <th>4</th>\n",
              "      <td>1896</td>\n",
              "      <td>Athens</td>\n",
              "      <td>Aquatics</td>\n",
              "      <td>Swimming</td>\n",
              "      <td>CHASAPIS, Spiridon</td>\n",
              "      <td>GRE</td>\n",
              "      <td>Men</td>\n",
              "      <td>100M Freestyle For Sailors</td>\n",
              "      <td>Silver</td>\n",
              "    </tr>\n",
              "  </tbody>\n",
              "</table>\n",
              "</div>"
            ],
            "text/plain": [
              "   Year    City     Sport  ... Gender                       Event   Medal\n",
              "0  1896  Athens  Aquatics  ...    Men              100M Freestyle    Gold\n",
              "1  1896  Athens  Aquatics  ...    Men              100M Freestyle  Silver\n",
              "2  1896  Athens  Aquatics  ...    Men  100M Freestyle For Sailors  Bronze\n",
              "3  1896  Athens  Aquatics  ...    Men  100M Freestyle For Sailors    Gold\n",
              "4  1896  Athens  Aquatics  ...    Men  100M Freestyle For Sailors  Silver\n",
              "\n",
              "[5 rows x 9 columns]"
            ]
          },
          "metadata": {
            "tags": []
          },
          "execution_count": 3
        }
      ]
    },
    {
      "cell_type": "code",
      "metadata": {
        "colab": {
          "base_uri": "https://localhost:8080/",
          "height": 204
        },
        "id": "7IlDKKyxYwuo",
        "outputId": "7cfb964e-7073-4cfb-dbee-4b30113eee7b"
      },
      "source": [
        "country_detail.head()"
      ],
      "execution_count": 4,
      "outputs": [
        {
          "output_type": "execute_result",
          "data": {
            "text/html": [
              "<div>\n",
              "<style scoped>\n",
              "    .dataframe tbody tr th:only-of-type {\n",
              "        vertical-align: middle;\n",
              "    }\n",
              "\n",
              "    .dataframe tbody tr th {\n",
              "        vertical-align: top;\n",
              "    }\n",
              "\n",
              "    .dataframe thead th {\n",
              "        text-align: right;\n",
              "    }\n",
              "</style>\n",
              "<table border=\"1\" class=\"dataframe\">\n",
              "  <thead>\n",
              "    <tr style=\"text-align: right;\">\n",
              "      <th></th>\n",
              "      <th>Country</th>\n",
              "      <th>Code</th>\n",
              "      <th>Population</th>\n",
              "      <th>GDP per Capita</th>\n",
              "    </tr>\n",
              "  </thead>\n",
              "  <tbody>\n",
              "    <tr>\n",
              "      <th>0</th>\n",
              "      <td>Afghanistan</td>\n",
              "      <td>AFG</td>\n",
              "      <td>32526562.0</td>\n",
              "      <td>594.323081</td>\n",
              "    </tr>\n",
              "    <tr>\n",
              "      <th>1</th>\n",
              "      <td>Albania</td>\n",
              "      <td>ALB</td>\n",
              "      <td>2889167.0</td>\n",
              "      <td>3945.217582</td>\n",
              "    </tr>\n",
              "    <tr>\n",
              "      <th>2</th>\n",
              "      <td>Algeria</td>\n",
              "      <td>ALG</td>\n",
              "      <td>39666519.0</td>\n",
              "      <td>4206.031232</td>\n",
              "    </tr>\n",
              "    <tr>\n",
              "      <th>3</th>\n",
              "      <td>American Samoa*</td>\n",
              "      <td>ASA</td>\n",
              "      <td>55538.0</td>\n",
              "      <td>NaN</td>\n",
              "    </tr>\n",
              "    <tr>\n",
              "      <th>4</th>\n",
              "      <td>Andorra</td>\n",
              "      <td>AND</td>\n",
              "      <td>70473.0</td>\n",
              "      <td>NaN</td>\n",
              "    </tr>\n",
              "  </tbody>\n",
              "</table>\n",
              "</div>"
            ],
            "text/plain": [
              "           Country Code  Population  GDP per Capita\n",
              "0      Afghanistan  AFG  32526562.0      594.323081\n",
              "1          Albania  ALB   2889167.0     3945.217582\n",
              "2          Algeria  ALG  39666519.0     4206.031232\n",
              "3  American Samoa*  ASA     55538.0             NaN\n",
              "4          Andorra  AND     70473.0             NaN"
            ]
          },
          "metadata": {
            "tags": []
          },
          "execution_count": 4
        }
      ]
    },
    {
      "cell_type": "code",
      "metadata": {
        "id": "gSRcC3I7VaeF"
      },
      "source": [
        "olympics = olympic_detail.merge(country_detail, left_on='Country', right_on='Code', how='inner')"
      ],
      "execution_count": 5,
      "outputs": []
    },
    {
      "cell_type": "markdown",
      "metadata": {
        "id": "KyIqQlQVVaeC"
      },
      "source": [
        "## Attributes/Columns in the **OLYMPICS** dataset: FeatureSet Exploration\n",
        "\n",
        "\n",
        "1. **Year**       : Categorical Variable. This includes olympic years from 1896 to 2012  \n",
        "2. **City**       : Categorical Variable. This includes the hosting city for Olympics for every Olympic year                     \n",
        "3. **Sport**      : Categorical Varibale. This includes name of all the Sports for every Olympic Year                           \n",
        "4. **Discipline** : Categorical Variable. This includes disciplines/ type of event for every Sport in the Olympic year           \n",
        "5. **Athlete**    : Categorical Variable. This includes names of athletes taking part in the events for every Sport \n",
        "6. **Country**    : Categorical Variable. This includes the country to which the athlete belongs\n",
        "7. **Code**       : Categorical Variable. This includes the Country Code to which the athlete belongs\n",
        "8. **Gender**     : Categorical Variable. This specifies the gender of the athlete                                               \n",
        "9. **Event**      : Categorical Variable. This speicifies the particular event of a discipline the athlete paritcipated in       \n",
        "10. **Medal**     : Categorical Variable. This includes medal won by an athlete for the particular event\n",
        "11. **GDP Per Capita** : Numerical Variable. This has the GDP per capita for every country in the world\n",
        "12. **Population** : Numerical Variable. This has the the population for very country in the world."
      ]
    },
    {
      "cell_type": "code",
      "metadata": {
        "colab": {
          "base_uri": "https://localhost:8080/",
          "height": 609
        },
        "id": "zdQ7v6sKVaeF",
        "outputId": "8d4d94bf-2375-4337-dc26-bd01f0b3f507"
      },
      "source": [
        "olympics"
      ],
      "execution_count": 6,
      "outputs": [
        {
          "output_type": "execute_result",
          "data": {
            "text/html": [
              "<div>\n",
              "<style scoped>\n",
              "    .dataframe tbody tr th:only-of-type {\n",
              "        vertical-align: middle;\n",
              "    }\n",
              "\n",
              "    .dataframe tbody tr th {\n",
              "        vertical-align: top;\n",
              "    }\n",
              "\n",
              "    .dataframe thead th {\n",
              "        text-align: right;\n",
              "    }\n",
              "</style>\n",
              "<table border=\"1\" class=\"dataframe\">\n",
              "  <thead>\n",
              "    <tr style=\"text-align: right;\">\n",
              "      <th></th>\n",
              "      <th>Year</th>\n",
              "      <th>City</th>\n",
              "      <th>Sport</th>\n",
              "      <th>Discipline</th>\n",
              "      <th>Athlete</th>\n",
              "      <th>Country_x</th>\n",
              "      <th>Gender</th>\n",
              "      <th>Event</th>\n",
              "      <th>Medal</th>\n",
              "      <th>Country_y</th>\n",
              "      <th>Code</th>\n",
              "      <th>Population</th>\n",
              "      <th>GDP per Capita</th>\n",
              "    </tr>\n",
              "  </thead>\n",
              "  <tbody>\n",
              "    <tr>\n",
              "      <th>0</th>\n",
              "      <td>1896</td>\n",
              "      <td>Athens</td>\n",
              "      <td>Aquatics</td>\n",
              "      <td>Swimming</td>\n",
              "      <td>HAJOS, Alfred</td>\n",
              "      <td>HUN</td>\n",
              "      <td>Men</td>\n",
              "      <td>100M Freestyle</td>\n",
              "      <td>Gold</td>\n",
              "      <td>Hungary</td>\n",
              "      <td>HUN</td>\n",
              "      <td>9844686.0</td>\n",
              "      <td>12363.543460</td>\n",
              "    </tr>\n",
              "    <tr>\n",
              "      <th>1</th>\n",
              "      <td>1896</td>\n",
              "      <td>Athens</td>\n",
              "      <td>Aquatics</td>\n",
              "      <td>Swimming</td>\n",
              "      <td>HAJOS, Alfred</td>\n",
              "      <td>HUN</td>\n",
              "      <td>Men</td>\n",
              "      <td>1200M Freestyle</td>\n",
              "      <td>Gold</td>\n",
              "      <td>Hungary</td>\n",
              "      <td>HUN</td>\n",
              "      <td>9844686.0</td>\n",
              "      <td>12363.543460</td>\n",
              "    </tr>\n",
              "    <tr>\n",
              "      <th>2</th>\n",
              "      <td>1896</td>\n",
              "      <td>Athens</td>\n",
              "      <td>Athletics</td>\n",
              "      <td>Athletics</td>\n",
              "      <td>SZOKOLYI, Alajos</td>\n",
              "      <td>HUN</td>\n",
              "      <td>Men</td>\n",
              "      <td>100M</td>\n",
              "      <td>Bronze</td>\n",
              "      <td>Hungary</td>\n",
              "      <td>HUN</td>\n",
              "      <td>9844686.0</td>\n",
              "      <td>12363.543460</td>\n",
              "    </tr>\n",
              "    <tr>\n",
              "      <th>3</th>\n",
              "      <td>1896</td>\n",
              "      <td>Athens</td>\n",
              "      <td>Athletics</td>\n",
              "      <td>Athletics</td>\n",
              "      <td>DANI, Nandor</td>\n",
              "      <td>HUN</td>\n",
              "      <td>Men</td>\n",
              "      <td>800M</td>\n",
              "      <td>Silver</td>\n",
              "      <td>Hungary</td>\n",
              "      <td>HUN</td>\n",
              "      <td>9844686.0</td>\n",
              "      <td>12363.543460</td>\n",
              "    </tr>\n",
              "    <tr>\n",
              "      <th>4</th>\n",
              "      <td>1896</td>\n",
              "      <td>Athens</td>\n",
              "      <td>Athletics</td>\n",
              "      <td>Athletics</td>\n",
              "      <td>KELLNER, Gyula</td>\n",
              "      <td>HUN</td>\n",
              "      <td>Men</td>\n",
              "      <td>Marathon</td>\n",
              "      <td>Bronze</td>\n",
              "      <td>Hungary</td>\n",
              "      <td>HUN</td>\n",
              "      <td>9844686.0</td>\n",
              "      <td>12363.543460</td>\n",
              "    </tr>\n",
              "    <tr>\n",
              "      <th>...</th>\n",
              "      <td>...</td>\n",
              "      <td>...</td>\n",
              "      <td>...</td>\n",
              "      <td>...</td>\n",
              "      <td>...</td>\n",
              "      <td>...</td>\n",
              "      <td>...</td>\n",
              "      <td>...</td>\n",
              "      <td>...</td>\n",
              "      <td>...</td>\n",
              "      <td>...</td>\n",
              "      <td>...</td>\n",
              "      <td>...</td>\n",
              "    </tr>\n",
              "    <tr>\n",
              "      <th>25737</th>\n",
              "      <td>2012</td>\n",
              "      <td>London</td>\n",
              "      <td>Athletics</td>\n",
              "      <td>Athletics</td>\n",
              "      <td>BARRONDO, Erick</td>\n",
              "      <td>GUA</td>\n",
              "      <td>Men</td>\n",
              "      <td>20KM Walk</td>\n",
              "      <td>Silver</td>\n",
              "      <td>Guatemala</td>\n",
              "      <td>GUA</td>\n",
              "      <td>16342897.0</td>\n",
              "      <td>3903.478856</td>\n",
              "    </tr>\n",
              "    <tr>\n",
              "      <th>25738</th>\n",
              "      <td>2012</td>\n",
              "      <td>London</td>\n",
              "      <td>Athletics</td>\n",
              "      <td>Athletics</td>\n",
              "      <td>JAMES, Kirani</td>\n",
              "      <td>GRN</td>\n",
              "      <td>Men</td>\n",
              "      <td>400M</td>\n",
              "      <td>Gold</td>\n",
              "      <td>Grenada</td>\n",
              "      <td>GRN</td>\n",
              "      <td>106825.0</td>\n",
              "      <td>9212.020352</td>\n",
              "    </tr>\n",
              "    <tr>\n",
              "      <th>25739</th>\n",
              "      <td>2012</td>\n",
              "      <td>London</td>\n",
              "      <td>Athletics</td>\n",
              "      <td>Athletics</td>\n",
              "      <td>AMOS, Nijel</td>\n",
              "      <td>BOT</td>\n",
              "      <td>Men</td>\n",
              "      <td>800M</td>\n",
              "      <td>Silver</td>\n",
              "      <td>Botswana</td>\n",
              "      <td>BOT</td>\n",
              "      <td>2262485.0</td>\n",
              "      <td>6360.138220</td>\n",
              "    </tr>\n",
              "    <tr>\n",
              "      <th>25740</th>\n",
              "      <td>2012</td>\n",
              "      <td>London</td>\n",
              "      <td>Sailing</td>\n",
              "      <td>Sailing</td>\n",
              "      <td>KONTIDES, Pavlos</td>\n",
              "      <td>CYP</td>\n",
              "      <td>Men</td>\n",
              "      <td>Laser</td>\n",
              "      <td>Silver</td>\n",
              "      <td>Cyprus</td>\n",
              "      <td>CYP</td>\n",
              "      <td>1165300.0</td>\n",
              "      <td>23242.840070</td>\n",
              "    </tr>\n",
              "    <tr>\n",
              "      <th>25741</th>\n",
              "      <td>2012</td>\n",
              "      <td>London</td>\n",
              "      <td>Taekwondo</td>\n",
              "      <td>Taekwondo</td>\n",
              "      <td>OBAME, Anthony</td>\n",
              "      <td>GAB</td>\n",
              "      <td>Men</td>\n",
              "      <td>+ 80 KG</td>\n",
              "      <td>Silver</td>\n",
              "      <td>Gabon</td>\n",
              "      <td>GAB</td>\n",
              "      <td>1725292.0</td>\n",
              "      <td>8266.445605</td>\n",
              "    </tr>\n",
              "  </tbody>\n",
              "</table>\n",
              "<p>25742 rows × 13 columns</p>\n",
              "</div>"
            ],
            "text/plain": [
              "       Year    City      Sport  ... Code  Population GDP per Capita\n",
              "0      1896  Athens   Aquatics  ...  HUN   9844686.0   12363.543460\n",
              "1      1896  Athens   Aquatics  ...  HUN   9844686.0   12363.543460\n",
              "2      1896  Athens  Athletics  ...  HUN   9844686.0   12363.543460\n",
              "3      1896  Athens  Athletics  ...  HUN   9844686.0   12363.543460\n",
              "4      1896  Athens  Athletics  ...  HUN   9844686.0   12363.543460\n",
              "...     ...     ...        ...  ...  ...         ...            ...\n",
              "25737  2012  London  Athletics  ...  GUA  16342897.0    3903.478856\n",
              "25738  2012  London  Athletics  ...  GRN    106825.0    9212.020352\n",
              "25739  2012  London  Athletics  ...  BOT   2262485.0    6360.138220\n",
              "25740  2012  London    Sailing  ...  CYP   1165300.0   23242.840070\n",
              "25741  2012  London  Taekwondo  ...  GAB   1725292.0    8266.445605\n",
              "\n",
              "[25742 rows x 13 columns]"
            ]
          },
          "metadata": {
            "tags": []
          },
          "execution_count": 6
        }
      ]
    },
    {
      "cell_type": "code",
      "metadata": {
        "id": "EtrU5F67VaeG"
      },
      "source": [
        "olympics = olympics.drop(columns=['Country_x'])"
      ],
      "execution_count": 7,
      "outputs": []
    },
    {
      "cell_type": "code",
      "metadata": {
        "id": "P7Nv44IoVaeG"
      },
      "source": [
        "olympics = olympics.rename(columns={'Country_y': 'Country'})"
      ],
      "execution_count": 8,
      "outputs": []
    },
    {
      "cell_type": "code",
      "metadata": {
        "id": "XeIQ4UMBVaeH"
      },
      "source": [
        "olympics.fillna(0,inplace=True)"
      ],
      "execution_count": 9,
      "outputs": []
    },
    {
      "cell_type": "code",
      "metadata": {
        "colab": {
          "base_uri": "https://localhost:8080/"
        },
        "id": "wTWipVgcVaeH",
        "outputId": "855a6741-af8d-4d39-be67-73157548d383"
      },
      "source": [
        "total_records = olympics.shape[0]\n",
        "print('Total Number of records in the Dataset : ', total_records)"
      ],
      "execution_count": 10,
      "outputs": [
        {
          "output_type": "stream",
          "text": [
            "Total Number of records in the Dataset :  25742\n"
          ],
          "name": "stdout"
        }
      ]
    },
    {
      "cell_type": "code",
      "metadata": {
        "colab": {
          "base_uri": "https://localhost:8080/",
          "height": 444
        },
        "id": "zFJez9yVVaeH",
        "outputId": "12250ff0-52c3-47d0-eea9-7da22fffd276"
      },
      "source": [
        "olympics.head(10)"
      ],
      "execution_count": 11,
      "outputs": [
        {
          "output_type": "execute_result",
          "data": {
            "text/html": [
              "<div>\n",
              "<style scoped>\n",
              "    .dataframe tbody tr th:only-of-type {\n",
              "        vertical-align: middle;\n",
              "    }\n",
              "\n",
              "    .dataframe tbody tr th {\n",
              "        vertical-align: top;\n",
              "    }\n",
              "\n",
              "    .dataframe thead th {\n",
              "        text-align: right;\n",
              "    }\n",
              "</style>\n",
              "<table border=\"1\" class=\"dataframe\">\n",
              "  <thead>\n",
              "    <tr style=\"text-align: right;\">\n",
              "      <th></th>\n",
              "      <th>Year</th>\n",
              "      <th>City</th>\n",
              "      <th>Sport</th>\n",
              "      <th>Discipline</th>\n",
              "      <th>Athlete</th>\n",
              "      <th>Gender</th>\n",
              "      <th>Event</th>\n",
              "      <th>Medal</th>\n",
              "      <th>Country</th>\n",
              "      <th>Code</th>\n",
              "      <th>Population</th>\n",
              "      <th>GDP per Capita</th>\n",
              "    </tr>\n",
              "  </thead>\n",
              "  <tbody>\n",
              "    <tr>\n",
              "      <th>0</th>\n",
              "      <td>1896</td>\n",
              "      <td>Athens</td>\n",
              "      <td>Aquatics</td>\n",
              "      <td>Swimming</td>\n",
              "      <td>HAJOS, Alfred</td>\n",
              "      <td>Men</td>\n",
              "      <td>100M Freestyle</td>\n",
              "      <td>Gold</td>\n",
              "      <td>Hungary</td>\n",
              "      <td>HUN</td>\n",
              "      <td>9844686.0</td>\n",
              "      <td>12363.54346</td>\n",
              "    </tr>\n",
              "    <tr>\n",
              "      <th>1</th>\n",
              "      <td>1896</td>\n",
              "      <td>Athens</td>\n",
              "      <td>Aquatics</td>\n",
              "      <td>Swimming</td>\n",
              "      <td>HAJOS, Alfred</td>\n",
              "      <td>Men</td>\n",
              "      <td>1200M Freestyle</td>\n",
              "      <td>Gold</td>\n",
              "      <td>Hungary</td>\n",
              "      <td>HUN</td>\n",
              "      <td>9844686.0</td>\n",
              "      <td>12363.54346</td>\n",
              "    </tr>\n",
              "    <tr>\n",
              "      <th>2</th>\n",
              "      <td>1896</td>\n",
              "      <td>Athens</td>\n",
              "      <td>Athletics</td>\n",
              "      <td>Athletics</td>\n",
              "      <td>SZOKOLYI, Alajos</td>\n",
              "      <td>Men</td>\n",
              "      <td>100M</td>\n",
              "      <td>Bronze</td>\n",
              "      <td>Hungary</td>\n",
              "      <td>HUN</td>\n",
              "      <td>9844686.0</td>\n",
              "      <td>12363.54346</td>\n",
              "    </tr>\n",
              "    <tr>\n",
              "      <th>3</th>\n",
              "      <td>1896</td>\n",
              "      <td>Athens</td>\n",
              "      <td>Athletics</td>\n",
              "      <td>Athletics</td>\n",
              "      <td>DANI, Nandor</td>\n",
              "      <td>Men</td>\n",
              "      <td>800M</td>\n",
              "      <td>Silver</td>\n",
              "      <td>Hungary</td>\n",
              "      <td>HUN</td>\n",
              "      <td>9844686.0</td>\n",
              "      <td>12363.54346</td>\n",
              "    </tr>\n",
              "    <tr>\n",
              "      <th>4</th>\n",
              "      <td>1896</td>\n",
              "      <td>Athens</td>\n",
              "      <td>Athletics</td>\n",
              "      <td>Athletics</td>\n",
              "      <td>KELLNER, Gyula</td>\n",
              "      <td>Men</td>\n",
              "      <td>Marathon</td>\n",
              "      <td>Bronze</td>\n",
              "      <td>Hungary</td>\n",
              "      <td>HUN</td>\n",
              "      <td>9844686.0</td>\n",
              "      <td>12363.54346</td>\n",
              "    </tr>\n",
              "    <tr>\n",
              "      <th>5</th>\n",
              "      <td>1896</td>\n",
              "      <td>Athens</td>\n",
              "      <td>Tennis</td>\n",
              "      <td>Tennis</td>\n",
              "      <td>TAPAVICZA, Momcsillo</td>\n",
              "      <td>Men</td>\n",
              "      <td>Singles</td>\n",
              "      <td>Bronze</td>\n",
              "      <td>Hungary</td>\n",
              "      <td>HUN</td>\n",
              "      <td>9844686.0</td>\n",
              "      <td>12363.54346</td>\n",
              "    </tr>\n",
              "    <tr>\n",
              "      <th>6</th>\n",
              "      <td>1900</td>\n",
              "      <td>Paris</td>\n",
              "      <td>Aquatics</td>\n",
              "      <td>Swimming</td>\n",
              "      <td>HALMAY, Zoltan</td>\n",
              "      <td>Men</td>\n",
              "      <td>1500M Freestyle</td>\n",
              "      <td>Bronze</td>\n",
              "      <td>Hungary</td>\n",
              "      <td>HUN</td>\n",
              "      <td>9844686.0</td>\n",
              "      <td>12363.54346</td>\n",
              "    </tr>\n",
              "    <tr>\n",
              "      <th>7</th>\n",
              "      <td>1900</td>\n",
              "      <td>Paris</td>\n",
              "      <td>Aquatics</td>\n",
              "      <td>Swimming</td>\n",
              "      <td>HALMAY, Zoltan</td>\n",
              "      <td>Men</td>\n",
              "      <td>200M Freestyle</td>\n",
              "      <td>Silver</td>\n",
              "      <td>Hungary</td>\n",
              "      <td>HUN</td>\n",
              "      <td>9844686.0</td>\n",
              "      <td>12363.54346</td>\n",
              "    </tr>\n",
              "    <tr>\n",
              "      <th>8</th>\n",
              "      <td>1900</td>\n",
              "      <td>Paris</td>\n",
              "      <td>Aquatics</td>\n",
              "      <td>Swimming</td>\n",
              "      <td>HALMAY, Zoltan</td>\n",
              "      <td>Men</td>\n",
              "      <td>4000M Freestyle</td>\n",
              "      <td>Silver</td>\n",
              "      <td>Hungary</td>\n",
              "      <td>HUN</td>\n",
              "      <td>9844686.0</td>\n",
              "      <td>12363.54346</td>\n",
              "    </tr>\n",
              "    <tr>\n",
              "      <th>9</th>\n",
              "      <td>1900</td>\n",
              "      <td>Paris</td>\n",
              "      <td>Athletics</td>\n",
              "      <td>Athletics</td>\n",
              "      <td>BAUER, Rudolf</td>\n",
              "      <td>Men</td>\n",
              "      <td>Discus Throw</td>\n",
              "      <td>Gold</td>\n",
              "      <td>Hungary</td>\n",
              "      <td>HUN</td>\n",
              "      <td>9844686.0</td>\n",
              "      <td>12363.54346</td>\n",
              "    </tr>\n",
              "  </tbody>\n",
              "</table>\n",
              "</div>"
            ],
            "text/plain": [
              "   Year    City      Sport Discipline  ...  Country Code Population GDP per Capita\n",
              "0  1896  Athens   Aquatics   Swimming  ...  Hungary  HUN  9844686.0    12363.54346\n",
              "1  1896  Athens   Aquatics   Swimming  ...  Hungary  HUN  9844686.0    12363.54346\n",
              "2  1896  Athens  Athletics  Athletics  ...  Hungary  HUN  9844686.0    12363.54346\n",
              "3  1896  Athens  Athletics  Athletics  ...  Hungary  HUN  9844686.0    12363.54346\n",
              "4  1896  Athens  Athletics  Athletics  ...  Hungary  HUN  9844686.0    12363.54346\n",
              "5  1896  Athens     Tennis     Tennis  ...  Hungary  HUN  9844686.0    12363.54346\n",
              "6  1900   Paris   Aquatics   Swimming  ...  Hungary  HUN  9844686.0    12363.54346\n",
              "7  1900   Paris   Aquatics   Swimming  ...  Hungary  HUN  9844686.0    12363.54346\n",
              "8  1900   Paris   Aquatics   Swimming  ...  Hungary  HUN  9844686.0    12363.54346\n",
              "9  1900   Paris  Athletics  Athletics  ...  Hungary  HUN  9844686.0    12363.54346\n",
              "\n",
              "[10 rows x 12 columns]"
            ]
          },
          "metadata": {
            "tags": []
          },
          "execution_count": 11
        }
      ]
    },
    {
      "cell_type": "code",
      "metadata": {
        "colab": {
          "base_uri": "https://localhost:8080/"
        },
        "id": "KHGmv6NfVaeI",
        "outputId": "f86931cd-c31b-4a71-d03c-a90a37ed9529"
      },
      "source": [
        "olympics.dtypes"
      ],
      "execution_count": 12,
      "outputs": [
        {
          "output_type": "execute_result",
          "data": {
            "text/plain": [
              "Year                int64\n",
              "City               object\n",
              "Sport              object\n",
              "Discipline         object\n",
              "Athlete            object\n",
              "Gender             object\n",
              "Event              object\n",
              "Medal              object\n",
              "Country            object\n",
              "Code               object\n",
              "Population        float64\n",
              "GDP per Capita    float64\n",
              "dtype: object"
            ]
          },
          "metadata": {
            "tags": []
          },
          "execution_count": 12
        }
      ]
    },
    {
      "cell_type": "code",
      "metadata": {
        "colab": {
          "base_uri": "https://localhost:8080/"
        },
        "id": "iIqrtwFCVaeJ",
        "outputId": "55fd7e61-d39b-4b5e-8c21-9f6dd38594dd"
      },
      "source": [
        "olympics.groupby('Country')['Medal'].count()"
      ],
      "execution_count": 13,
      "outputs": [
        {
          "output_type": "execute_result",
          "data": {
            "text/plain": [
              "Country\n",
              "Afghanistan           2\n",
              "Algeria              15\n",
              "Argentina           259\n",
              "Armenia              11\n",
              "Australia          1189\n",
              "                   ... \n",
              "Venezuela            12\n",
              "Vietnam               2\n",
              "Virgin Islands*       1\n",
              "Zambia                2\n",
              "Zimbabwe             23\n",
              "Name: Medal, Length: 129, dtype: int64"
            ]
          },
          "metadata": {
            "tags": []
          },
          "execution_count": 13
        }
      ]
    },
    {
      "cell_type": "code",
      "metadata": {
        "colab": {
          "base_uri": "https://localhost:8080/"
        },
        "id": "sE8i81QmVaeJ",
        "outputId": "e467e428-d7d3-4aa2-c85b-7219f60ba070"
      },
      "source": [
        "olympics.Country.unique()"
      ],
      "execution_count": 14,
      "outputs": [
        {
          "output_type": "execute_result",
          "data": {
            "text/plain": [
              "array(['Hungary', 'Austria', 'Greece', 'United States', 'Germany',\n",
              "       'United Kingdom', 'France', 'Australia', 'Denmark', 'Switzerland',\n",
              "       'Netherlands', 'Belgium', 'India', 'Canada', 'Sweden', 'Norway',\n",
              "       'Spain', 'Italy', 'Cuba', 'South Africa', 'Finland', 'Estonia',\n",
              "       'New Zealand', 'Brazil', 'Japan', 'Luxembourg', 'Argentina',\n",
              "       'Poland', 'Portugal', 'Uruguay', 'Haiti', 'Egypt', 'Philippines',\n",
              "       'Ireland', 'Chile', 'Latvia', 'Mexico', 'Turkey', 'Panama',\n",
              "       'Jamaica', 'Sri Lanka', 'Korea, South', 'Puerto Rico*', 'Peru',\n",
              "       'Iran', 'Trinidad and Tobago', 'Venezuela', 'Bulgaria', 'Lebanon',\n",
              "       'Iceland', 'Pakistan', 'Bahamas', 'Taiwan', 'Ethiopia', 'Morocco',\n",
              "       'Ghana', 'Iraq', 'Singapore', 'Tunisia', 'Kenya', 'Nigeria',\n",
              "       'Uganda', 'Cameroon', 'Mongolia', 'Korea, North', 'Colombia',\n",
              "       'Niger', 'Thailand', 'Bermuda*', 'Tanzania', 'Guyana', 'Zimbabwe',\n",
              "       'China', \"Cote d'Ivoire\", 'Zambia', 'Dominican Republic',\n",
              "       'Algeria', 'Syria', 'Suriname', 'Costa Rica', 'Indonesia',\n",
              "       'Senegal', 'Djibouti', 'Netherlands Antilles*', 'Virgin Islands*',\n",
              "       'Namibia', 'Qatar', 'Lithuania', 'Malaysia', 'Croatia', 'Israel',\n",
              "       'Slovenia', 'Russia', 'Ukraine', 'Ecuador', 'Burundi',\n",
              "       'Mozambique', 'Czech Republic', 'Belarus', 'Tonga', 'Kazakhstan',\n",
              "       'Uzbekistan', 'Slovakia', 'Moldova', 'Georgia', 'Hong Kong*',\n",
              "       'Armenia', 'Azerbaijan', 'Barbados', 'Saudi Arabia', 'Kyrgyzstan',\n",
              "       'Kuwait', 'Vietnam', 'Macedonia', 'Serbia', 'Eritrea', 'Paraguay',\n",
              "       'United Arab Emirates', 'Sudan', 'Mauritius', 'Togo', 'Tajikistan',\n",
              "       'Afghanistan', 'Bahrain', 'Guatemala', 'Grenada', 'Botswana',\n",
              "       'Cyprus', 'Gabon'], dtype=object)"
            ]
          },
          "metadata": {
            "tags": []
          },
          "execution_count": 14
        }
      ]
    },
    {
      "cell_type": "markdown",
      "metadata": {
        "id": "gYBmgy6-VaeK"
      },
      "source": [
        "# Which country has won Maximum Medals : \n"
      ]
    },
    {
      "cell_type": "code",
      "metadata": {
        "colab": {
          "base_uri": "https://localhost:8080/",
          "height": 815
        },
        "id": "W6sp4sKAVaeK",
        "outputId": "70a456a6-1ff0-4071-9302-32dd0e5cb977"
      },
      "source": [
        "Total_Medals = olympics.groupby(['Country'])['Medal'].count()\n",
        "pd.DataFrame(Total_Medals)\n",
        "Total_Medals = Total_Medals.reset_index(drop=False)\n",
        "Total_Medals = Total_Medals.sort_values(by = ['Medal'], ascending = False)\n",
        "Total_Medals = Total_Medals.head(20)\n",
        "fig=plt.figure(figsize=(10, 10), dpi= 80, facecolor='w', edgecolor='k')\n",
        "\n",
        "with plt.style.context('ggplot'):\n",
        "    plt.bar('Country','Medal',data = Total_Medals)\n",
        "    plt.xlabel('Country', fontsize = 16)\n",
        "    plt.ylabel('Medals Won', fontsize = 16)\n",
        "    plt.title('Total Medals won by Countries (Top 20)', fontsize = 16)\n",
        "    plt.xticks(Total_Medals['Country'], rotation=90, fontsize = 14)\n",
        "plt.show()\n",
        "\n"
      ],
      "execution_count": 15,
      "outputs": [
        {
          "output_type": "display_data",
          "data": {
            "image/png": "[encoded data removed]",
            "text/plain": [
              "<Figure size 800x800 with 1 Axes>"
            ]
          },
          "metadata": {
            "tags": []
          }
        }
      ]
    },
    {
      "cell_type": "markdown",
      "metadata": {
        "id": "b6CwliKhVaeL"
      },
      "source": [
        "# Comparing types of Medals won by Countries :"
      ]
    },
    {
      "cell_type": "code",
      "metadata": {
        "colab": {
          "base_uri": "https://localhost:8080/",
          "height": 669
        },
        "id": "VOMIs21eVaeL",
        "outputId": "e10ebc34-4169-4b7b-c54b-46dc8bbb455e"
      },
      "source": [
        "Medal_Types = olympics.groupby(['Country', 'Medal'])['Medal'].count()\n",
        "Medal_Types = Medal_Types.unstack(level = -1)\n",
        "pd.DataFrame(Medal_Types)\n",
        "Medal_Types = Medal_Types.reset_index(drop=False)\n",
        "Medal_Types = Medal_Types.sort_values(by = ['Gold'], ascending = False)\n",
        "Medal_Types = Medal_Types.head(20)\n",
        "Medal_Types"
      ],
      "execution_count": 16,
      "outputs": [
        {
          "output_type": "execute_result",
          "data": {
            "text/html": [
              "<div>\n",
              "<style scoped>\n",
              "    .dataframe tbody tr th:only-of-type {\n",
              "        vertical-align: middle;\n",
              "    }\n",
              "\n",
              "    .dataframe tbody tr th {\n",
              "        vertical-align: top;\n",
              "    }\n",
              "\n",
              "    .dataframe thead th {\n",
              "        text-align: right;\n",
              "    }\n",
              "</style>\n",
              "<table border=\"1\" class=\"dataframe\">\n",
              "  <thead>\n",
              "    <tr style=\"text-align: right;\">\n",
              "      <th>Medal</th>\n",
              "      <th>Country</th>\n",
              "      <th>Bronze</th>\n",
              "      <th>Gold</th>\n",
              "      <th>Silver</th>\n",
              "    </tr>\n",
              "  </thead>\n",
              "  <tbody>\n",
              "    <tr>\n",
              "      <th>121</th>\n",
              "      <td>United States</td>\n",
              "      <td>1098.0</td>\n",
              "      <td>2235.0</td>\n",
              "      <td>1252.0</td>\n",
              "    </tr>\n",
              "    <tr>\n",
              "      <th>120</th>\n",
              "      <td>United Kingdom</td>\n",
              "      <td>553.0</td>\n",
              "      <td>546.0</td>\n",
              "      <td>621.0</td>\n",
              "    </tr>\n",
              "    <tr>\n",
              "      <th>56</th>\n",
              "      <td>Italy</td>\n",
              "      <td>404.0</td>\n",
              "      <td>476.0</td>\n",
              "      <td>416.0</td>\n",
              "    </tr>\n",
              "    <tr>\n",
              "      <th>40</th>\n",
              "      <td>Germany</td>\n",
              "      <td>475.0</td>\n",
              "      <td>452.0</td>\n",
              "      <td>378.0</td>\n",
              "    </tr>\n",
              "    <tr>\n",
              "      <th>48</th>\n",
              "      <td>Hungary</td>\n",
              "      <td>351.0</td>\n",
              "      <td>412.0</td>\n",
              "      <td>316.0</td>\n",
              "    </tr>\n",
              "    <tr>\n",
              "      <th>37</th>\n",
              "      <td>France</td>\n",
              "      <td>497.0</td>\n",
              "      <td>408.0</td>\n",
              "      <td>491.0</td>\n",
              "    </tr>\n",
              "    <tr>\n",
              "      <th>105</th>\n",
              "      <td>Sweden</td>\n",
              "      <td>328.0</td>\n",
              "      <td>349.0</td>\n",
              "      <td>367.0</td>\n",
              "    </tr>\n",
              "    <tr>\n",
              "      <th>4</th>\n",
              "      <td>Australia</td>\n",
              "      <td>472.0</td>\n",
              "      <td>312.0</td>\n",
              "      <td>405.0</td>\n",
              "    </tr>\n",
              "    <tr>\n",
              "      <th>20</th>\n",
              "      <td>China</td>\n",
              "      <td>221.0</td>\n",
              "      <td>290.0</td>\n",
              "      <td>296.0</td>\n",
              "    </tr>\n",
              "    <tr>\n",
              "      <th>93</th>\n",
              "      <td>Russia</td>\n",
              "      <td>291.0</td>\n",
              "      <td>239.0</td>\n",
              "      <td>238.0</td>\n",
              "    </tr>\n",
              "    <tr>\n",
              "      <th>78</th>\n",
              "      <td>Netherlands</td>\n",
              "      <td>339.0</td>\n",
              "      <td>233.0</td>\n",
              "      <td>279.0</td>\n",
              "    </tr>\n",
              "    <tr>\n",
              "      <th>58</th>\n",
              "      <td>Japan</td>\n",
              "      <td>303.0</td>\n",
              "      <td>213.0</td>\n",
              "      <td>272.0</td>\n",
              "    </tr>\n",
              "    <tr>\n",
              "      <th>83</th>\n",
              "      <td>Norway</td>\n",
              "      <td>145.0</td>\n",
              "      <td>209.0</td>\n",
              "      <td>200.0</td>\n",
              "    </tr>\n",
              "    <tr>\n",
              "      <th>25</th>\n",
              "      <td>Cuba</td>\n",
              "      <td>116.0</td>\n",
              "      <td>165.0</td>\n",
              "      <td>129.0</td>\n",
              "    </tr>\n",
              "    <tr>\n",
              "      <th>62</th>\n",
              "      <td>Korea, South</td>\n",
              "      <td>167.0</td>\n",
              "      <td>158.0</td>\n",
              "      <td>204.0</td>\n",
              "    </tr>\n",
              "    <tr>\n",
              "      <th>18</th>\n",
              "      <td>Canada</td>\n",
              "      <td>262.0</td>\n",
              "      <td>155.0</td>\n",
              "      <td>232.0</td>\n",
              "    </tr>\n",
              "    <tr>\n",
              "      <th>28</th>\n",
              "      <td>Denmark</td>\n",
              "      <td>160.0</td>\n",
              "      <td>150.0</td>\n",
              "      <td>197.0</td>\n",
              "    </tr>\n",
              "    <tr>\n",
              "      <th>50</th>\n",
              "      <td>India</td>\n",
              "      <td>38.0</td>\n",
              "      <td>128.0</td>\n",
              "      <td>18.0</td>\n",
              "    </tr>\n",
              "    <tr>\n",
              "      <th>36</th>\n",
              "      <td>Finland</td>\n",
              "      <td>212.0</td>\n",
              "      <td>124.0</td>\n",
              "      <td>120.0</td>\n",
              "    </tr>\n",
              "    <tr>\n",
              "      <th>89</th>\n",
              "      <td>Poland</td>\n",
              "      <td>231.0</td>\n",
              "      <td>106.0</td>\n",
              "      <td>174.0</td>\n",
              "    </tr>\n",
              "  </tbody>\n",
              "</table>\n",
              "</div>"
            ],
            "text/plain": [
              "Medal         Country  Bronze    Gold  Silver\n",
              "121     United States  1098.0  2235.0  1252.0\n",
              "120    United Kingdom   553.0   546.0   621.0\n",
              "56              Italy   404.0   476.0   416.0\n",
              "40            Germany   475.0   452.0   378.0\n",
              "48            Hungary   351.0   412.0   316.0\n",
              "37             France   497.0   408.0   491.0\n",
              "105            Sweden   328.0   349.0   367.0\n",
              "4           Australia   472.0   312.0   405.0\n",
              "20              China   221.0   290.0   296.0\n",
              "93             Russia   291.0   239.0   238.0\n",
              "78        Netherlands   339.0   233.0   279.0\n",
              "58              Japan   303.0   213.0   272.0\n",
              "83             Norway   145.0   209.0   200.0\n",
              "25               Cuba   116.0   165.0   129.0\n",
              "62       Korea, South   167.0   158.0   204.0\n",
              "18             Canada   262.0   155.0   232.0\n",
              "28            Denmark   160.0   150.0   197.0\n",
              "50              India    38.0   128.0    18.0\n",
              "36            Finland   212.0   124.0   120.0\n",
              "89             Poland   231.0   106.0   174.0"
            ]
          },
          "metadata": {
            "tags": []
          },
          "execution_count": 16
        }
      ]
    },
    {
      "cell_type": "code",
      "metadata": {
        "colab": {
          "base_uri": "https://localhost:8080/",
          "height": 641
        },
        "id": "XlcpBTSlVaeM",
        "outputId": "5abc4c78-d314-46e0-dde9-734b7635223a"
      },
      "source": [
        "X_axis = Medal_Types['Country']\n",
        "configs = Medal_Types['Country']\n",
        "N = len(configs)\n",
        "ind = np.arange(N)\n",
        "width = 0.6\n",
        "fig = plt.figure(figsize=(10,8))\n",
        "\n",
        "bar_1 = plt.bar(ind, Medal_Types['Bronze'], width, color='brown' )\n",
        "bar_2 = plt.bar(ind, Medal_Types['Silver'], width, Medal_Types['Bronze'], color='grey')\n",
        "bar_3 = plt.bar(ind, Medal_Types['Gold'], width, np.array(Medal_Types['Bronze'])+np.array(Medal_Types['Silver']), color='gold')\n",
        "\n",
        "plt.yticks(fontsize=16)\n",
        "plt.ylabel('Medal Count', fontsize=16)\n",
        "plt.xticks(ind, X_axis, fontsize=16, rotation=90)\n",
        "plt.xlabel('Country', fontsize=16)\n",
        "plt.title('Types of Medals Won by Countries (Top 20)',fontsize=16)\n",
        "plt.legend((bar_1[0], bar_2[0], bar_3[0]), ('Bronze', 'Silver', 'Gold'), fontsize=12, ncol=1, framealpha=0, fancybox=True)\n",
        "plt.show()"
      ],
      "execution_count": 17,
      "outputs": [
        {
          "output_type": "display_data",
          "data": {
            "image/png": "[encoded data removed]",
            "text/plain": [
              "<Figure size 720x576 with 1 Axes>"
            ]
          },
          "metadata": {
            "tags": [],
            "needs_background": "light"
          }
        }
      ]
    },
    {
      "cell_type": "markdown",
      "metadata": {
        "id": "Dk-BcNCRVaeN"
      },
      "source": [
        "# Which Sport wins the Maixumum Medals in the Olympics event"
      ]
    },
    {
      "cell_type": "code",
      "metadata": {
        "colab": {
          "base_uri": "https://localhost:8080/",
          "height": 359
        },
        "id": "DXWLiLqsVaeN",
        "outputId": "f28a60a5-e6f1-46ca-8f51-2b8e9f9c3807"
      },
      "source": [
        "Sports_Medals = olympics.groupby(['Sport', 'Medal'])['Medal'].count()\n",
        "Sports_Medals = Sports_Medals.unstack(level = -1)\n",
        "pd.DataFrame(Medal_Types)\n",
        "Sports_Medals = Sports_Medals.reset_index(drop=False)\n",
        "Sports_Medals = Sports_Medals.sort_values(by = ['Gold'], ascending = False)\n",
        "Sports_Medals = Sports_Medals.head(20)\n",
        "Sports_Medals.head(10)"
      ],
      "execution_count": 18,
      "outputs": [
        {
          "output_type": "execute_result",
          "data": {
            "text/html": [
              "<div>\n",
              "<style scoped>\n",
              "    .dataframe tbody tr th:only-of-type {\n",
              "        vertical-align: middle;\n",
              "    }\n",
              "\n",
              "    .dataframe tbody tr th {\n",
              "        vertical-align: top;\n",
              "    }\n",
              "\n",
              "    .dataframe thead th {\n",
              "        text-align: right;\n",
              "    }\n",
              "</style>\n",
              "<table border=\"1\" class=\"dataframe\">\n",
              "  <thead>\n",
              "    <tr style=\"text-align: right;\">\n",
              "      <th>Medal</th>\n",
              "      <th>Sport</th>\n",
              "      <th>Bronze</th>\n",
              "      <th>Gold</th>\n",
              "      <th>Silver</th>\n",
              "    </tr>\n",
              "  </thead>\n",
              "  <tbody>\n",
              "    <tr>\n",
              "      <th>0</th>\n",
              "      <td>Aquatics</td>\n",
              "      <td>1126.0</td>\n",
              "      <td>1260.0</td>\n",
              "      <td>1172.0</td>\n",
              "    </tr>\n",
              "    <tr>\n",
              "      <th>2</th>\n",
              "      <td>Athletics</td>\n",
              "      <td>997.0</td>\n",
              "      <td>1023.0</td>\n",
              "      <td>1014.0</td>\n",
              "    </tr>\n",
              "    <tr>\n",
              "      <th>28</th>\n",
              "      <td>Rowing</td>\n",
              "      <td>716.0</td>\n",
              "      <td>602.0</td>\n",
              "      <td>701.0</td>\n",
              "    </tr>\n",
              "    <tr>\n",
              "      <th>17</th>\n",
              "      <td>Gymnastics</td>\n",
              "      <td>534.0</td>\n",
              "      <td>587.0</td>\n",
              "      <td>538.0</td>\n",
              "    </tr>\n",
              "    <tr>\n",
              "      <th>19</th>\n",
              "      <td>Hockey</td>\n",
              "      <td>416.0</td>\n",
              "      <td>468.0</td>\n",
              "      <td>413.0</td>\n",
              "    </tr>\n",
              "    <tr>\n",
              "      <th>14</th>\n",
              "      <td>Fencing</td>\n",
              "      <td>438.0</td>\n",
              "      <td>454.0</td>\n",
              "      <td>454.0</td>\n",
              "    </tr>\n",
              "    <tr>\n",
              "      <th>15</th>\n",
              "      <td>Football</td>\n",
              "      <td>383.0</td>\n",
              "      <td>415.0</td>\n",
              "      <td>411.0</td>\n",
              "    </tr>\n",
              "    <tr>\n",
              "      <th>30</th>\n",
              "      <td>Sailing</td>\n",
              "      <td>300.0</td>\n",
              "      <td>396.0</td>\n",
              "      <td>351.0</td>\n",
              "    </tr>\n",
              "    <tr>\n",
              "      <th>31</th>\n",
              "      <td>Shooting</td>\n",
              "      <td>340.0</td>\n",
              "      <td>341.0</td>\n",
              "      <td>343.0</td>\n",
              "    </tr>\n",
              "    <tr>\n",
              "      <th>12</th>\n",
              "      <td>Cycling</td>\n",
              "      <td>324.0</td>\n",
              "      <td>319.0</td>\n",
              "      <td>320.0</td>\n",
              "    </tr>\n",
              "  </tbody>\n",
              "</table>\n",
              "</div>"
            ],
            "text/plain": [
              "Medal       Sport  Bronze    Gold  Silver\n",
              "0        Aquatics  1126.0  1260.0  1172.0\n",
              "2       Athletics   997.0  1023.0  1014.0\n",
              "28         Rowing   716.0   602.0   701.0\n",
              "17     Gymnastics   534.0   587.0   538.0\n",
              "19         Hockey   416.0   468.0   413.0\n",
              "14        Fencing   438.0   454.0   454.0\n",
              "15       Football   383.0   415.0   411.0\n",
              "30        Sailing   300.0   396.0   351.0\n",
              "31       Shooting   340.0   341.0   343.0\n",
              "12        Cycling   324.0   319.0   320.0"
            ]
          },
          "metadata": {
            "tags": []
          },
          "execution_count": 18
        }
      ]
    },
    {
      "cell_type": "code",
      "metadata": {
        "colab": {
          "base_uri": "https://localhost:8080/",
          "height": 628
        },
        "id": "VGqzwAqoVaeO",
        "outputId": "0a9f9a1c-f039-4e3d-bf63-9a45576db3bf"
      },
      "source": [
        "X_axis = Sports_Medals['Sport']\n",
        "configs = Sports_Medals['Sport']\n",
        "N = len(configs)\n",
        "ind = np.arange(N)\n",
        "width = 0.25\n",
        "fig = plt.figure(figsize=(12,8))\n",
        "\n",
        "bar_1 = plt.bar(ind, Medal_Types['Bronze'], width, color='brown' )\n",
        "bar_2 = plt.bar(ind + width, Medal_Types['Silver'], width, color='grey')\n",
        "bar_3 = plt.bar(ind + width + width, Medal_Types['Gold'], width, color='gold')\n",
        "\n",
        "plt.yticks(fontsize=16)\n",
        "plt.ylabel('Medal Count', fontsize=16)\n",
        "plt.xticks(ind + width/2, X_axis, fontsize=16, rotation=90)\n",
        "plt.xlabel('Country', fontsize=16)\n",
        "plt.title('Types of Medals Won by Countries (Top 20)',fontsize=16)\n",
        "plt.legend((bar_1[0], bar_2[0], bar_3[0]), ('Bronze', 'Silver', 'Gold'), fontsize=12, ncol=1, framealpha=0, fancybox=True)\n",
        "plt.show()"
      ],
      "execution_count": 19,
      "outputs": [
        {
          "output_type": "display_data",
          "data": {
            "image/png": "[encoded data removed]",
            "text/plain": [
              "<Figure size 864x576 with 1 Axes>"
            ]
          },
          "metadata": {
            "tags": [],
            "needs_background": "light"
          }
        }
      ]
    },
    {
      "cell_type": "markdown",
      "metadata": {
        "id": "Qk3gnCqlVaeO"
      },
      "source": [
        "# Trends of Medal from 1896 to 2012 "
      ]
    },
    {
      "cell_type": "code",
      "metadata": {
        "colab": {
          "base_uri": "https://localhost:8080/",
          "height": 359
        },
        "id": "KH7UAEUAVaeP",
        "outputId": "ec34e0de-8b56-48bd-dc84-689aa2f5c1ba"
      },
      "source": [
        "Medals_Year = olympics.groupby(['Year', 'Medal'])['Medal'].count().reset_index(name='count')\n",
        "# Medals_Year = Medals_Year.unstack(level = -1)\n",
        "pd.DataFrame(Medals_Year)\n",
        "# Medals_Year = Medals_Year.reset_index(drop=False)\n",
        "Medals_Year.head(10)"
      ],
      "execution_count": 20,
      "outputs": [
        {
          "output_type": "execute_result",
          "data": {
            "text/html": [
              "<div>\n",
              "<style scoped>\n",
              "    .dataframe tbody tr th:only-of-type {\n",
              "        vertical-align: middle;\n",
              "    }\n",
              "\n",
              "    .dataframe tbody tr th {\n",
              "        vertical-align: top;\n",
              "    }\n",
              "\n",
              "    .dataframe thead th {\n",
              "        text-align: right;\n",
              "    }\n",
              "</style>\n",
              "<table border=\"1\" class=\"dataframe\">\n",
              "  <thead>\n",
              "    <tr style=\"text-align: right;\">\n",
              "      <th></th>\n",
              "      <th>Year</th>\n",
              "      <th>Medal</th>\n",
              "      <th>count</th>\n",
              "    </tr>\n",
              "  </thead>\n",
              "  <tbody>\n",
              "    <tr>\n",
              "      <th>0</th>\n",
              "      <td>1896</td>\n",
              "      <td>Bronze</td>\n",
              "      <td>38</td>\n",
              "    </tr>\n",
              "    <tr>\n",
              "      <th>1</th>\n",
              "      <td>1896</td>\n",
              "      <td>Gold</td>\n",
              "      <td>62</td>\n",
              "    </tr>\n",
              "    <tr>\n",
              "      <th>2</th>\n",
              "      <td>1896</td>\n",
              "      <td>Silver</td>\n",
              "      <td>45</td>\n",
              "    </tr>\n",
              "    <tr>\n",
              "      <th>3</th>\n",
              "      <td>1900</td>\n",
              "      <td>Bronze</td>\n",
              "      <td>133</td>\n",
              "    </tr>\n",
              "    <tr>\n",
              "      <th>4</th>\n",
              "      <td>1900</td>\n",
              "      <td>Gold</td>\n",
              "      <td>160</td>\n",
              "    </tr>\n",
              "    <tr>\n",
              "      <th>5</th>\n",
              "      <td>1900</td>\n",
              "      <td>Silver</td>\n",
              "      <td>183</td>\n",
              "    </tr>\n",
              "    <tr>\n",
              "      <th>6</th>\n",
              "      <td>1904</td>\n",
              "      <td>Bronze</td>\n",
              "      <td>123</td>\n",
              "    </tr>\n",
              "    <tr>\n",
              "      <th>7</th>\n",
              "      <td>1904</td>\n",
              "      <td>Gold</td>\n",
              "      <td>185</td>\n",
              "    </tr>\n",
              "    <tr>\n",
              "      <th>8</th>\n",
              "      <td>1904</td>\n",
              "      <td>Silver</td>\n",
              "      <td>154</td>\n",
              "    </tr>\n",
              "    <tr>\n",
              "      <th>9</th>\n",
              "      <td>1908</td>\n",
              "      <td>Bronze</td>\n",
              "      <td>204</td>\n",
              "    </tr>\n",
              "  </tbody>\n",
              "</table>\n",
              "</div>"
            ],
            "text/plain": [
              "   Year   Medal  count\n",
              "0  1896  Bronze     38\n",
              "1  1896    Gold     62\n",
              "2  1896  Silver     45\n",
              "3  1900  Bronze    133\n",
              "4  1900    Gold    160\n",
              "5  1900  Silver    183\n",
              "6  1904  Bronze    123\n",
              "7  1904    Gold    185\n",
              "8  1904  Silver    154\n",
              "9  1908  Bronze    204"
            ]
          },
          "metadata": {
            "tags": []
          },
          "execution_count": 20
        }
      ]
    },
    {
      "cell_type": "code",
      "metadata": {
        "colab": {
          "base_uri": "https://localhost:8080/",
          "height": 543
        },
        "id": "5M8KT5miVaeP",
        "outputId": "6bd0f0d6-2514-4847-e4aa-e33e7b253380"
      },
      "source": [
        "fig = plt.figure(figsize=(12,8))\n",
        "ax = sns.lineplot(x = 'Year', y = 'count', hue = 'Medal', data = Medals_Year)\n",
        "ax.legend(loc='upper left')\n",
        "\n",
        "plt.yticks(fontsize=16)\n",
        "plt.ylabel('Medal Count', fontsize=16)\n",
        "plt.xticks(Medals_Year['Year'], fontsize=12, rotation=90)\n",
        "plt.xlabel('Year', fontsize=16)\n",
        "plt.title('Medal trends in Olympics from 1896 to 2012',fontsize=16)\n",
        "plt.show()"
      ],
      "execution_count": 21,
      "outputs": [
        {
          "output_type": "display_data",
          "data": {
            "image/png": "[encoded data removed]",
            "text/plain": [
              "<Figure size 864x576 with 1 Axes>"
            ]
          },
          "metadata": {
            "tags": [],
            "needs_background": "light"
          }
        }
      ]
    },
    {
      "cell_type": "markdown",
      "metadata": {
        "id": "DRk9UJtoVaeQ"
      },
      "source": [
        "# Which Gender has won more Medals in the Olympics"
      ]
    },
    {
      "cell_type": "code",
      "metadata": {
        "colab": {
          "base_uri": "https://localhost:8080/",
          "height": 111
        },
        "id": "trLFjUvcVaeQ",
        "outputId": "a488bd37-efd5-45a4-c50c-9aabd79c2bc3"
      },
      "source": [
        "Gender_Medals = pd.DataFrame(olympics.groupby('Gender')['Medal'].count().reset_index(name = 'Medal_Count'))\n",
        "Gender_Medals"
      ],
      "execution_count": 22,
      "outputs": [
        {
          "output_type": "execute_result",
          "data": {
            "text/html": [
              "<div>\n",
              "<style scoped>\n",
              "    .dataframe tbody tr th:only-of-type {\n",
              "        vertical-align: middle;\n",
              "    }\n",
              "\n",
              "    .dataframe tbody tr th {\n",
              "        vertical-align: top;\n",
              "    }\n",
              "\n",
              "    .dataframe thead th {\n",
              "        text-align: right;\n",
              "    }\n",
              "</style>\n",
              "<table border=\"1\" class=\"dataframe\">\n",
              "  <thead>\n",
              "    <tr style=\"text-align: right;\">\n",
              "      <th></th>\n",
              "      <th>Gender</th>\n",
              "      <th>Medal_Count</th>\n",
              "    </tr>\n",
              "  </thead>\n",
              "  <tbody>\n",
              "    <tr>\n",
              "      <th>0</th>\n",
              "      <td>Men</td>\n",
              "      <td>19036</td>\n",
              "    </tr>\n",
              "    <tr>\n",
              "      <th>1</th>\n",
              "      <td>Women</td>\n",
              "      <td>6706</td>\n",
              "    </tr>\n",
              "  </tbody>\n",
              "</table>\n",
              "</div>"
            ],
            "text/plain": [
              "  Gender  Medal_Count\n",
              "0    Men        19036\n",
              "1  Women         6706"
            ]
          },
          "metadata": {
            "tags": []
          },
          "execution_count": 22
        }
      ]
    },
    {
      "cell_type": "code",
      "metadata": {
        "colab": {
          "base_uri": "https://localhost:8080/",
          "height": 419
        },
        "id": "ZofmOgoCVaeR",
        "outputId": "4972a501-a16a-4cc1-a342-b5c408efbd57"
      },
      "source": [
        "fig = plt.figure(figsize=(8,6))\n",
        "sns.barplot(x = 'Gender', y = 'Medal_Count', data=Gender_Medals)\n",
        "\n",
        "plt.xlabel('Gender', fontsize=16)\n",
        "plt.xticks(fontsize=16)\n",
        "plt.ylabel('Medal Count', fontsize=16)\n",
        "plt.yticks(fontsize=16)\n",
        "plt.title('Medals Won - Men Vs Women',fontsize=16)\n",
        "plt.show()"
      ],
      "execution_count": 23,
      "outputs": [
        {
          "output_type": "display_data",
          "data": {
            "image/png": "[encoded data removed]",
            "text/plain": [
              "<Figure size 576x432 with 1 Axes>"
            ]
          },
          "metadata": {
            "tags": [],
            "needs_background": "light"
          }
        }
      ]
    },
    {
      "cell_type": "markdown",
      "metadata": {
        "id": "MhWSFTJJVaeR"
      },
      "source": [
        "# To See how many sports did each Olympic Year Have (Trend in Sports)"
      ]
    },
    {
      "cell_type": "code",
      "metadata": {
        "colab": {
          "base_uri": "https://localhost:8080/",
          "height": 886
        },
        "id": "20aSd7JoVaeS",
        "outputId": "31b37b46-a3d8-4aad-e9ee-4cdc5d1e3ba5"
      },
      "source": [
        "Sports_Trend= olympics.groupby('Year')['Sport'].count().reset_index(name = 'Sports_Count')\n",
        "Sports_Trend"
      ],
      "execution_count": 24,
      "outputs": [
        {
          "output_type": "execute_result",
          "data": {
            "text/html": [
              "<div>\n",
              "<style scoped>\n",
              "    .dataframe tbody tr th:only-of-type {\n",
              "        vertical-align: middle;\n",
              "    }\n",
              "\n",
              "    .dataframe tbody tr th {\n",
              "        vertical-align: top;\n",
              "    }\n",
              "\n",
              "    .dataframe thead th {\n",
              "        text-align: right;\n",
              "    }\n",
              "</style>\n",
              "<table border=\"1\" class=\"dataframe\">\n",
              "  <thead>\n",
              "    <tr style=\"text-align: right;\">\n",
              "      <th></th>\n",
              "      <th>Year</th>\n",
              "      <th>Sports_Count</th>\n",
              "    </tr>\n",
              "  </thead>\n",
              "  <tbody>\n",
              "    <tr>\n",
              "      <th>0</th>\n",
              "      <td>1896</td>\n",
              "      <td>145</td>\n",
              "    </tr>\n",
              "    <tr>\n",
              "      <th>1</th>\n",
              "      <td>1900</td>\n",
              "      <td>476</td>\n",
              "    </tr>\n",
              "    <tr>\n",
              "      <th>2</th>\n",
              "      <td>1904</td>\n",
              "      <td>462</td>\n",
              "    </tr>\n",
              "    <tr>\n",
              "      <th>3</th>\n",
              "      <td>1908</td>\n",
              "      <td>777</td>\n",
              "    </tr>\n",
              "    <tr>\n",
              "      <th>4</th>\n",
              "      <td>1912</td>\n",
              "      <td>861</td>\n",
              "    </tr>\n",
              "    <tr>\n",
              "      <th>5</th>\n",
              "      <td>1920</td>\n",
              "      <td>1288</td>\n",
              "    </tr>\n",
              "    <tr>\n",
              "      <th>6</th>\n",
              "      <td>1924</td>\n",
              "      <td>849</td>\n",
              "    </tr>\n",
              "    <tr>\n",
              "      <th>7</th>\n",
              "      <td>1928</td>\n",
              "      <td>682</td>\n",
              "    </tr>\n",
              "    <tr>\n",
              "      <th>8</th>\n",
              "      <td>1932</td>\n",
              "      <td>611</td>\n",
              "    </tr>\n",
              "    <tr>\n",
              "      <th>9</th>\n",
              "      <td>1936</td>\n",
              "      <td>855</td>\n",
              "    </tr>\n",
              "    <tr>\n",
              "      <th>10</th>\n",
              "      <td>1948</td>\n",
              "      <td>778</td>\n",
              "    </tr>\n",
              "    <tr>\n",
              "      <th>11</th>\n",
              "      <td>1952</td>\n",
              "      <td>719</td>\n",
              "    </tr>\n",
              "    <tr>\n",
              "      <th>12</th>\n",
              "      <td>1956</td>\n",
              "      <td>610</td>\n",
              "    </tr>\n",
              "    <tr>\n",
              "      <th>13</th>\n",
              "      <td>1960</td>\n",
              "      <td>566</td>\n",
              "    </tr>\n",
              "    <tr>\n",
              "      <th>14</th>\n",
              "      <td>1964</td>\n",
              "      <td>635</td>\n",
              "    </tr>\n",
              "    <tr>\n",
              "      <th>15</th>\n",
              "      <td>1968</td>\n",
              "      <td>662</td>\n",
              "    </tr>\n",
              "    <tr>\n",
              "      <th>16</th>\n",
              "      <td>1972</td>\n",
              "      <td>643</td>\n",
              "    </tr>\n",
              "    <tr>\n",
              "      <th>17</th>\n",
              "      <td>1976</td>\n",
              "      <td>664</td>\n",
              "    </tr>\n",
              "    <tr>\n",
              "      <th>18</th>\n",
              "      <td>1980</td>\n",
              "      <td>504</td>\n",
              "    </tr>\n",
              "    <tr>\n",
              "      <th>19</th>\n",
              "      <td>1984</td>\n",
              "      <td>1109</td>\n",
              "    </tr>\n",
              "    <tr>\n",
              "      <th>20</th>\n",
              "      <td>1988</td>\n",
              "      <td>841</td>\n",
              "    </tr>\n",
              "    <tr>\n",
              "      <th>21</th>\n",
              "      <td>1992</td>\n",
              "      <td>1418</td>\n",
              "    </tr>\n",
              "    <tr>\n",
              "      <th>22</th>\n",
              "      <td>1996</td>\n",
              "      <td>1795</td>\n",
              "    </tr>\n",
              "    <tr>\n",
              "      <th>23</th>\n",
              "      <td>2000</td>\n",
              "      <td>1943</td>\n",
              "    </tr>\n",
              "    <tr>\n",
              "      <th>24</th>\n",
              "      <td>2004</td>\n",
              "      <td>1959</td>\n",
              "    </tr>\n",
              "    <tr>\n",
              "      <th>25</th>\n",
              "      <td>2008</td>\n",
              "      <td>2005</td>\n",
              "    </tr>\n",
              "    <tr>\n",
              "      <th>26</th>\n",
              "      <td>2012</td>\n",
              "      <td>1885</td>\n",
              "    </tr>\n",
              "  </tbody>\n",
              "</table>\n",
              "</div>"
            ],
            "text/plain": [
              "    Year  Sports_Count\n",
              "0   1896           145\n",
              "1   1900           476\n",
              "2   1904           462\n",
              "3   1908           777\n",
              "4   1912           861\n",
              "5   1920          1288\n",
              "6   1924           849\n",
              "7   1928           682\n",
              "8   1932           611\n",
              "9   1936           855\n",
              "10  1948           778\n",
              "11  1952           719\n",
              "12  1956           610\n",
              "13  1960           566\n",
              "14  1964           635\n",
              "15  1968           662\n",
              "16  1972           643\n",
              "17  1976           664\n",
              "18  1980           504\n",
              "19  1984          1109\n",
              "20  1988           841\n",
              "21  1992          1418\n",
              "22  1996          1795\n",
              "23  2000          1943\n",
              "24  2004          1959\n",
              "25  2008          2005\n",
              "26  2012          1885"
            ]
          },
          "metadata": {
            "tags": []
          },
          "execution_count": 24
        }
      ]
    },
    {
      "cell_type": "code",
      "metadata": {
        "colab": {
          "base_uri": "https://localhost:8080/",
          "height": 553
        },
        "id": "3jYRX91LVaeS",
        "outputId": "5510b030-8c5d-4b1b-ff1a-17b89947fa4b"
      },
      "source": [
        "fig = plt.figure(figsize=(10,8))\n",
        "\n",
        "ax = sns.lineplot(x = 'Year', y = 'Sports_Count', data = Sports_Trend)\n",
        "plt.xlabel('Year', fontsize=16)\n",
        "plt.xticks(Sports_Trend['Year'], fontsize=16, rotation = 90)\n",
        "plt.ylabel('Total Sports', fontsize=16)\n",
        "plt.yticks(fontsize=16)\n",
        "plt.title('Totals Sports in each Olympic Year',fontsize=16)\n",
        "plt.show()"
      ],
      "execution_count": 25,
      "outputs": [
        {
          "output_type": "display_data",
          "data": {
            "image/png": "[encoded data removed]",
            "text/plain": [
              "<Figure size 720x576 with 1 Axes>"
            ]
          },
          "metadata": {
            "tags": [],
            "needs_background": "light"
          }
        }
      ]
    },
    {
      "cell_type": "markdown",
      "metadata": {
        "id": "VSdIt0fOVaeT"
      },
      "source": [
        "# Corelation between Population and GDP"
      ]
    },
    {
      "cell_type": "code",
      "metadata": {
        "colab": {
          "base_uri": "https://localhost:8080/",
          "height": 404
        },
        "id": "cC29XLYnVaeT",
        "outputId": "743dafbb-954d-42b3-8edd-034e55309351"
      },
      "source": [
        "corplot = olympics.corr()\n",
        "f, ax = plt.subplots(figsize = (9,6))\n",
        "sns.heatmap(corplot, vmax = .8, square = True)"
      ],
      "execution_count": 26,
      "outputs": [
        {
          "output_type": "execute_result",
          "data": {
            "text/plain": [
              "<matplotlib.axes._subplots.AxesSubplot at 0x7f75fb8afa50>"
            ]
          },
          "metadata": {
            "tags": []
          },
          "execution_count": 26
        },
        {
          "output_type": "display_data",
          "data": {
            "image/png": "[encoded data removed]",
            "text/plain": [
              "<Figure size 648x432 with 2 Axes>"
            ]
          },
          "metadata": {
            "tags": [],
            "needs_background": "light"
          }
        }
      ]
    },
    {
      "cell_type": "code",
      "metadata": {
        "id": "sIEV0TRQVaeV"
      },
      "source": [
        ""
      ],
      "execution_count": null,
      "outputs": []
    }
  ]
}